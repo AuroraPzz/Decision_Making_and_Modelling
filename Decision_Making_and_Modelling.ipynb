{
 "cells": [
  {
   "cell_type": "markdown",
   "source": [
    "# Day-by-day sales Forecasting\n",
    "## Managerial Decision Making and Modelling\n",
    "\n",
    "Project Work by Marco Bruttocao, 858067@stud.unive.it\n",
    "Ca' Foscari University, Venice"
   ],
   "metadata": {
    "collapsed": false,
    "pycharm": {
     "name": "#%% md\n"
    }
   }
  },
  {
   "cell_type": "markdown",
   "source": [
    "> File POSdata.csv reports the data on products A, B, C, D sales in 46 different\n",
    "24/365 point of sales (POS) between October 2036 and November 2037.\n",
    "\n",
    "<br>\n",
    "\n",
    "Each record has the following seven fields:\n",
    "\n",
    " - DateTime: purchase time (YYYY-MM-DD-hh.mm.ss, e.g., 2038-12-01-02.31.05 means\n",
    "   that someone purchased some products on December 2038, 1st at 2:31:05)\n",
    "\n",
    " - PointOfSale: point of sale unique identifier\n",
    "\n",
    " - Error: error-detecting code. If it is equal to 1,\n",
    "   incorrect data has been recorded, and the record should be disregarded\n",
    "\n",
    " - ProductA: number of products A sold\n",
    "\n",
    " - ProductB: number of products B sold\n",
    "\n",
    " - ProductC: number of products C sold\n",
    "\n",
    " - ProductD: number of products D sold\n",
    "\n",
    "<br>\n",
    "\n",
    "Products A, B, C, D are perishable the products unsold at midnight must be\n",
    "disposed.\n",
    "\n",
    "Each POS must reorder the products each day at 18:00, and they become available\n",
    "at the POS a 00:00:01 of the next day. As an example, if a POS orders 20\n",
    "products A on August 2036, 20th, it will receive the 20 products on August 2036,\n",
    "21st at 00.00.01.\n",
    "\n",
    "Each POS sells products A, B, C, D for 50.00, 20.00, 100.00, 10.00 euro per unit\n",
    "respectively and purchase them from its supplier for 37.00, 15.00, 70.00, 8.00\n",
    "euro respectively.\n",
    "\n",
    "The supplier pays 30.00, 10.00, 50.00, 7.00 euro to make a unit of product\n",
    "A, B, C, D respectively."
   ],
   "metadata": {
    "collapsed": false,
    "pycharm": {
     "name": "#%% md\n"
    }
   }
  },
  {
   "cell_type": "code",
   "execution_count": 6,
   "metadata": {
    "collapsed": true
   },
   "outputs": [],
   "source": [
    "# Libraries and settings\n",
    "\n",
    "import numpy as np\n",
    "import pandas as pd\n",
    "import matplotlib.pyplot as plt"
   ]
  },
  {
   "cell_type": "code",
   "execution_count": 7,
   "outputs": [
    {
     "name": "stdout",
     "output_type": "stream",
     "text": [
      "Deleted rows:  2776\n"
     ]
    },
    {
     "data": {
      "text/plain": "                  DateTime  PointOfSale  Error  ProductA  ProductB  ProductC  \\\n0      2036-10-02 00:35:00          101      0         3         5         0   \n1      2036-10-02 08:06:00          101      0         2         5         0   \n2      2036-10-02 08:40:00          101      0         3         5         0   \n3      2036-10-02 08:47:00          101      0         3         5         0   \n4      2036-10-02 08:53:00          101      0         3         5         0   \n...                    ...          ...    ...       ...       ...       ...   \n647318 2037-11-28 19:06:00         9203      0         1         0         0   \n647319 2037-11-28 20:40:00         9203      0         1         0         0   \n647320 2037-11-29 00:32:00         9203      0         0         5         0   \n647321 2037-11-29 10:06:00         9203      0         1         0         0   \n647322 2037-11-29 17:23:00         9203      0         2         5         0   \n\n        ProductD  \n0              0  \n1              0  \n2              0  \n3              0  \n4              0  \n...          ...  \n647318         0  \n647319         0  \n647320         0  \n647321         0  \n647322         0  \n\n[644547 rows x 7 columns]",
      "text/html": "<div>\n<style scoped>\n    .dataframe tbody tr th:only-of-type {\n        vertical-align: middle;\n    }\n\n    .dataframe tbody tr th {\n        vertical-align: top;\n    }\n\n    .dataframe thead th {\n        text-align: right;\n    }\n</style>\n<table border=\"1\" class=\"dataframe\">\n  <thead>\n    <tr style=\"text-align: right;\">\n      <th></th>\n      <th>DateTime</th>\n      <th>PointOfSale</th>\n      <th>Error</th>\n      <th>ProductA</th>\n      <th>ProductB</th>\n      <th>ProductC</th>\n      <th>ProductD</th>\n    </tr>\n  </thead>\n  <tbody>\n    <tr>\n      <th>0</th>\n      <td>2036-10-02 00:35:00</td>\n      <td>101</td>\n      <td>0</td>\n      <td>3</td>\n      <td>5</td>\n      <td>0</td>\n      <td>0</td>\n    </tr>\n    <tr>\n      <th>1</th>\n      <td>2036-10-02 08:06:00</td>\n      <td>101</td>\n      <td>0</td>\n      <td>2</td>\n      <td>5</td>\n      <td>0</td>\n      <td>0</td>\n    </tr>\n    <tr>\n      <th>2</th>\n      <td>2036-10-02 08:40:00</td>\n      <td>101</td>\n      <td>0</td>\n      <td>3</td>\n      <td>5</td>\n      <td>0</td>\n      <td>0</td>\n    </tr>\n    <tr>\n      <th>3</th>\n      <td>2036-10-02 08:47:00</td>\n      <td>101</td>\n      <td>0</td>\n      <td>3</td>\n      <td>5</td>\n      <td>0</td>\n      <td>0</td>\n    </tr>\n    <tr>\n      <th>4</th>\n      <td>2036-10-02 08:53:00</td>\n      <td>101</td>\n      <td>0</td>\n      <td>3</td>\n      <td>5</td>\n      <td>0</td>\n      <td>0</td>\n    </tr>\n    <tr>\n      <th>...</th>\n      <td>...</td>\n      <td>...</td>\n      <td>...</td>\n      <td>...</td>\n      <td>...</td>\n      <td>...</td>\n      <td>...</td>\n    </tr>\n    <tr>\n      <th>647318</th>\n      <td>2037-11-28 19:06:00</td>\n      <td>9203</td>\n      <td>0</td>\n      <td>1</td>\n      <td>0</td>\n      <td>0</td>\n      <td>0</td>\n    </tr>\n    <tr>\n      <th>647319</th>\n      <td>2037-11-28 20:40:00</td>\n      <td>9203</td>\n      <td>0</td>\n      <td>1</td>\n      <td>0</td>\n      <td>0</td>\n      <td>0</td>\n    </tr>\n    <tr>\n      <th>647320</th>\n      <td>2037-11-29 00:32:00</td>\n      <td>9203</td>\n      <td>0</td>\n      <td>0</td>\n      <td>5</td>\n      <td>0</td>\n      <td>0</td>\n    </tr>\n    <tr>\n      <th>647321</th>\n      <td>2037-11-29 10:06:00</td>\n      <td>9203</td>\n      <td>0</td>\n      <td>1</td>\n      <td>0</td>\n      <td>0</td>\n      <td>0</td>\n    </tr>\n    <tr>\n      <th>647322</th>\n      <td>2037-11-29 17:23:00</td>\n      <td>9203</td>\n      <td>0</td>\n      <td>2</td>\n      <td>5</td>\n      <td>0</td>\n      <td>0</td>\n    </tr>\n  </tbody>\n</table>\n<p>644547 rows × 7 columns</p>\n</div>"
     },
     "execution_count": 7,
     "metadata": {},
     "output_type": "execute_result"
    }
   ],
   "source": [
    "pos = pd.read_csv(\"./Data/PosData.csv\", sep = \";\")\n",
    "pos.DateTime = pd.to_datetime(pos.DateTime, format='%Y-%m-%d-%H.%M.%S')\n",
    "clean_pos = pos[pos.Error != 1].drop(\"Unnamed: 7\", axis=1)\n",
    "\n",
    "print(\"Deleted rows: \", len(pos)-len(clean_pos))\n",
    "clean_pos"
   ],
   "metadata": {
    "collapsed": false,
    "pycharm": {
     "name": "#%%\n"
    }
   }
  },
  {
   "cell_type": "code",
   "execution_count": 8,
   "outputs": [
    {
     "data": {
      "text/plain": "array([ 101,  105,  107, 1501, 1801, 2031, 2301, 2501, 2505, 3501, 4601,\n       5011, 5020, 5040, 5041, 5060, 5080, 5110, 5120, 5140, 5150, 5160,\n       5180, 5190, 5241, 5300, 5320, 5350, 5360, 5390, 5400, 5410, 5420,\n       5430, 5440, 5501, 5801, 6001, 6201, 6502, 6601, 7001, 7201, 8540,\n       8550, 9203], dtype=int64)"
     },
     "execution_count": 8,
     "metadata": {},
     "output_type": "execute_result"
    }
   ],
   "source": [
    "pd.unique(clean_pos.PointOfSale)"
   ],
   "metadata": {
    "collapsed": false,
    "pycharm": {
     "name": "#%%\n"
    }
   }
  },
  {
   "cell_type": "code",
   "execution_count": 8,
   "outputs": [],
   "source": [],
   "metadata": {
    "collapsed": false,
    "pycharm": {
     "name": "#%%\n"
    }
   }
  }
 ],
 "metadata": {
  "kernelspec": {
   "name": "pycharm-8e5d2478",
   "language": "python",
   "display_name": "PyCharm (pythonProjects)"
  },
  "language_info": {
   "codemirror_mode": {
    "name": "ipython",
    "version": 2
   },
   "file_extension": ".py",
   "mimetype": "text/x-python",
   "name": "python",
   "nbconvert_exporter": "python",
   "pygments_lexer": "ipython2",
   "version": "2.7.6"
  }
 },
 "nbformat": 4,
 "nbformat_minor": 0
}